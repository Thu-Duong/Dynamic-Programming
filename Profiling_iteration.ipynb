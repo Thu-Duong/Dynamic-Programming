{
 "metadata": {
  "language_info": {
   "codemirror_mode": {
    "name": "ipython",
    "version": 3
   },
   "file_extension": ".py",
   "mimetype": "text/x-python",
   "name": "python",
   "nbconvert_exporter": "python",
   "pygments_lexer": "ipython3",
   "version": "3.7.7-final"
  },
  "orig_nbformat": 2,
  "kernelspec": {
   "name": "python3",
   "display_name": "Python 3.7.7 64-bit (conda)",
   "metadata": {
    "interpreter": {
     "hash": "b3ba2566441a7c06988d0923437866b63cedc61552a5af99d1f4fb67d367b25f"
    }
   }
  }
 },
 "nbformat": 4,
 "nbformat_minor": 2,
 "cells": [
  {
   "source": [
    "\n",
    "## Profiling three methods of iteration\n",
    "\n",
    "In this note book, I use profilling to find the information of where the code to optimize are."
   ],
   "cell_type": "markdown",
   "metadata": {}
  },
  {
   "cell_type": "code",
   "execution_count": 1,
   "metadata": {},
   "outputs": [],
   "source": [
    "import random\n",
    "import numpy as np\n",
    "from numba import jit\n",
    "import pandas as pd\n",
    "import seaborn as sns\n",
    "import matplotlib as mpl\n",
    "from time import time\n",
    "import timeit\n",
    "from functools import partial\n",
    "import matplotlib.pyplot as plt\n",
    "import warnings\n",
    "warnings.filterwarnings(\"ignore\")\n",
    "\n",
    "from codes.ddp_auxiliary import *\n",
    "from codes.ddp_plots import *\n",
    "from codes.ddp_algorithms import modified_policy_iteration\n",
    "from codes.ddp_algorithms import policy_iteration\n",
    "from codes.ddp_algorithms import value_iteration\n",
    "from codes.ddp_algorithms import bellman_equation\n",
    "from codes.ddp_algorithms import evaluate_policy"
   ]
  },
  {
   "cell_type": "code",
   "execution_count": 2,
   "metadata": {},
   "outputs": [],
   "source": [
    "import cProfile, pstats, io\n",
    "\n",
    "def profile(fnc):\n",
    "    \n",
    "    \"\"\"\n",
    "    A decorator that uses cProfile to profile a function\n",
    "    source: https://osf.io/upav8/\n",
    "    \"\"\"\n",
    "    \n",
    "    def inner(*args, **kwargs):\n",
    "        \n",
    "        pr = cProfile.Profile()\n",
    "        pr.enable()\n",
    "        retval = fnc(*args, **kwargs)\n",
    "        pr.disable()\n",
    "        s = io.StringIO()\n",
    "        sortby = 'cumulative'\n",
    "        ps = pstats.Stats(pr, stream=s).sort_stats(sortby)\n",
    "        ps.print_stats()\n",
    "        print(s.getvalue())\n",
    "        return retval\n",
    "\n",
    "    return inner"
   ]
  },
  {
   "cell_type": "code",
   "execution_count": 5,
   "metadata": {},
   "outputs": [],
   "source": [
    "paras = {\n",
    "    'beta': 0.95,\n",
    "    'alpha': 0.3,\n",
    "    'delta': 0.1,\n",
    "    'sigma': 2,\n",
    "}\n",
    "capitals, consumptions, A = linearized_dynamic_system(**paras)\n",
    "\n",
    "max_iter, num_states= 500, 400\n",
    "\n",
    "# Create grid world\n",
    "k_grid, c_grid, u_grid =  get_grid(dev = None, num_states = num_states, **paras)"
   ]
  },
  {
   "source": [
    "### Value iteration"
   ],
   "cell_type": "markdown",
   "metadata": {}
  },
  {
   "cell_type": "code",
   "execution_count": 9,
   "metadata": {},
   "outputs": [
    {
     "output_type": "stream",
     "name": "stdout",
     "text": [
      "         6564 function calls in 0.595 seconds\n\n   Ordered by: cumulative time\n\n   ncalls  tottime  percall  cumtime  percall filename:lineno(function)\n        1    0.053    0.053    0.595    0.595 <ipython-input-9-8ecabb5ab709>:50(value_iteration)\n     1056    0.167    0.000    0.419    0.000 {built-in method numpy.core._multiarray_umath.implement_array_function}\n      211    0.015    0.000    0.346    0.002 <ipython-input-9-8ecabb5ab709>:27(state_wise_max)\n      211    0.107    0.001    0.192    0.001 <ipython-input-9-8ecabb5ab709>:1(bellman_equation)\n      211    0.000    0.000    0.174    0.001 <__array_function__ internals>:2(argmax)\n      211    0.000    0.000    0.174    0.001 C:\\ProgramData\\Anaconda3\\lib\\site-packages\\numpy\\core\\fromnumeric.py:1112(argmax)\n      211    0.000    0.000    0.174    0.001 C:\\ProgramData\\Anaconda3\\lib\\site-packages\\numpy\\core\\fromnumeric.py:55(_wrapfunc)\n      211    0.173    0.001    0.173    0.001 {method 'argmax' of 'numpy.ndarray' objects}\n      422    0.000    0.000    0.167    0.000 <__array_function__ internals>:2(where)\n      422    0.000    0.000    0.079    0.000 <__array_function__ internals>:2(amax)\n      422    0.001    0.000    0.078    0.000 C:\\ProgramData\\Anaconda3\\lib\\site-packages\\numpy\\core\\fromnumeric.py:2551(amax)\n      422    0.001    0.000    0.077    0.000 C:\\ProgramData\\Anaconda3\\lib\\site-packages\\numpy\\core\\fromnumeric.py:73(_wrapreduction)\n      422    0.075    0.000    0.075    0.000 {method 'reduce' of 'numpy.ufunc' objects}\n        1    0.000    0.000    0.001    0.001 <__array_function__ internals>:2(tile)\n        1    0.000    0.000    0.001    0.001 C:\\ProgramData\\Anaconda3\\lib\\site-packages\\numpy\\lib\\shape_base.py:1169(tile)\n        2    0.001    0.000    0.001    0.000 {method 'repeat' of 'numpy.ndarray' objects}\n        3    0.000    0.000    0.000    0.000 {built-in method numpy.zeros}\n      422    0.000    0.000    0.000    0.000 C:\\ProgramData\\Anaconda3\\lib\\site-packages\\numpy\\core\\fromnumeric.py:74(<dictcomp>)\n      422    0.000    0.000    0.000    0.000 {method 'items' of 'dict' objects}\n      211    0.000    0.000    0.000    0.000 {built-in method builtins.getattr}\n      422    0.000    0.000    0.000    0.000 C:\\ProgramData\\Anaconda3\\lib\\site-packages\\numpy\\core\\multiarray.py:312(where)\n      422    0.000    0.000    0.000    0.000 C:\\ProgramData\\Anaconda3\\lib\\site-packages\\numpy\\core\\fromnumeric.py:2546(_amax_dispatcher)\n      211    0.000    0.000    0.000    0.000 C:\\ProgramData\\Anaconda3\\lib\\site-packages\\numpy\\core\\fromnumeric.py:1108(_argmax_dispatcher)\n        1    0.000    0.000    0.000    0.000 {built-in method numpy.array}\n        3    0.000    0.000    0.000    0.000 {method 'reshape' of 'numpy.ndarray' objects}\n        2    0.000    0.000    0.000    0.000 {built-in method builtins.len}\n        3    0.000    0.000    0.000    0.000 C:\\ProgramData\\Anaconda3\\lib\\site-packages\\numpy\\lib\\shape_base.py:1251(<genexpr>)\n        1    0.000    0.000    0.000    0.000 {built-in method builtins.all}\n        2    0.000    0.000    0.000    0.000 C:\\ProgramData\\Anaconda3\\lib\\site-packages\\numpy\\lib\\shape_base.py:1241(<genexpr>)\n        1    0.000    0.000    0.000    0.000 C:\\ProgramData\\Anaconda3\\lib\\site-packages\\numpy\\lib\\shape_base.py:1165(_tile_dispatcher)\n        1    0.000    0.000    0.000    0.000 {method 'disable' of '_lsprof.Profiler' objects}\n\n\n\n"
     ]
    },
    {
     "output_type": "execute_result",
     "data": {
      "text/plain": [
       "(array([[0.0378547 , 0.04047529, 0.04308127, ..., 0.53287905, 0.53347246,\n",
       "         0.53406433],\n",
       "        [0.07388349, 0.07653825, 0.07918412, ..., 0.7367631 , 0.73781653,\n",
       "         0.73886715],\n",
       "        [0.10823804, 0.1109255 , 0.11360273, ..., 0.85662704, 0.85795605,\n",
       "         0.85928378],\n",
       "        ...,\n",
       "        [       nan,        nan,        nan, ...,        nan,        nan,\n",
       "                nan],\n",
       "        [       nan,        nan,        nan, ...,        nan,        nan,\n",
       "                nan],\n",
       "        [       nan,        nan,        nan, ...,        nan,        nan,\n",
       "                nan]]),\n",
       " array([[  0,   0,   0, ...,   0,   0,   0],\n",
       "        [  2,   3,   3, ..., 203, 203, 204],\n",
       "        [  4,   5,   6, ..., 270, 270, 271],\n",
       "        ...,\n",
       "        [  0,   0,   0, ...,   0,   0,   0],\n",
       "        [  0,   0,   0, ...,   0,   0,   0],\n",
       "        [  0,   0,   0, ...,   0,   0,   0]]),\n",
       " 210)"
      ]
     },
     "metadata": {},
     "execution_count": 9
    }
   ],
   "source": [
    "def bellman_equation(u_grid, val_old, beta):\n",
    "    \"\"\"\n",
    "    Computes and returns the updated\n",
    "    value function for an old value function `val_old`.\n",
    "    Return NA position to 0 value\n",
    "\n",
    "    Parameters\n",
    "    ----------\n",
    "    val_old : array_like(float, ndim=1)\n",
    "        Old value function vector, of length n.\n",
    "\n",
    "    u_grid : array_like( 2-dimensional ndarray of shape (n, n))\n",
    "        Utility grid.\n",
    "\n",
    "    Returns\n",
    "    -------\n",
    "    v_new : array_like( 2-dimensional ndarray of shape (n, n))\n",
    "        Updated utility value grid\n",
    "\n",
    "    \"\"\"\n",
    "    v = u_grid + beta*val_old[:,None]\n",
    "\n",
    "    v_new = np.where(np.isnan(u_grid), 0, v)\n",
    "\n",
    "    return v_new\n",
    "\n",
    "def state_wise_max(u_grid):\n",
    "    \"\"\"\n",
    "    Find the maximum value function and the corresponding policy\n",
    "    \n",
    "    Parameters\n",
    "    ----------\n",
    "    u_grid : array_like( 2-dimensional ndarray of shape (n, n))\n",
    "            Utility grid\n",
    "\n",
    "    Returns\n",
    "    -------\n",
    "    value_fn : array_like(float, ndim=1)\n",
    "            Value function vector, of length n.\n",
    "\n",
    "    policy : ndarray(float, ndim=2)\n",
    "        Transition matrix for `policy`, of shape (n, n).\n",
    "    \"\"\"\n",
    "    u_new = np.where(np.isnan(u_grid), 0, u_grid)\n",
    "\n",
    "    value_fn = np.amax(u_new, axis = 0)\n",
    "    policy = np.argmax(u_new, axis = 0)\n",
    "    return value_fn, policy\n",
    "\n",
    "@profile\n",
    "def value_iteration(max_iter, u_grid, beta,crit):\n",
    "    \"\"\"\n",
    "    Solve the optimization problem by value iteration.\n",
    "\n",
    "    \"\"\"\n",
    "    if crit is None:\n",
    "        crit = 1e-06\n",
    "    \n",
    "    num_states = len(u_grid)\n",
    "\n",
    "    # set up\n",
    "    value_store_iter = np.tile(np.nan, [max_iter, num_states])\n",
    "    store_policy = np.zeros((max_iter, num_states), dtype= int)\n",
    "    val_old, val_new = np.zeros(num_states), np.zeros(num_states)\n",
    "\n",
    "    for i in range(max_iter):\n",
    "        v_new = bellman_equation(u_grid, val_old, beta)\n",
    "        val_new, store_policy[i,:] = state_wise_max(v_new)\n",
    "        \n",
    "        max_diff = np.max(np.absolute(val_new - val_old))\n",
    "        # quit iterations, when convergence is achieved\n",
    "        if max_diff < crit:\n",
    "            break\n",
    "\n",
    "        value_store_iter[i,:] = val_new\n",
    "        val_old = val_new\n",
    "\n",
    "    num_iter = i\n",
    "\n",
    "    return value_store_iter, store_policy, num_iter\n",
    "\n",
    "value_iteration(max_iter, u_grid, paras[\"beta\"], crit = None)"
   ]
  },
  {
   "cell_type": "code",
   "execution_count": 18,
   "metadata": {},
   "outputs": [],
   "source": [
    "@jit\n",
    "def boosted_state_wise_max(u_grid):\n",
    "    \"\"\"\n",
    "    Find the maximum value function and the corresponding policy\n",
    "    \n",
    "    Parameters\n",
    "    ----------\n",
    "    u_grid : array_like( 2-dimensional ndarray of shape (n, n))\n",
    "            Utility grid\n",
    "\n",
    "    Returns\n",
    "    -------\n",
    "    value_fn : array_like(float, ndim=1)\n",
    "            Value function vector, of length n.\n",
    "\n",
    "    policy : ndarray(float, ndim=2)\n",
    "        Transition matrix for `policy`, of shape (n, n).\n",
    "    \"\"\"\n",
    "    u_new = np.where(np.isnan(u_grid), 0, u_grid)\n",
    "\n",
    "    value_fn = np.amax(u_new, axis = 0)\n",
    "    policy = np.argmax(u_new, axis = 0)\n",
    "    return value_fn, policy\n",
    "\n",
    "def state_wise_max(u_grid):\n",
    "    \"\"\"\n",
    "    Find the maximum value function and the corresponding policy\n",
    "    \n",
    "    Parameters\n",
    "    ----------\n",
    "    u_grid : array_like( 2-dimensional ndarray of shape (n, n))\n",
    "            Utility grid\n",
    "\n",
    "    Returns\n",
    "    -------\n",
    "    value_fn : array_like(float, ndim=1)\n",
    "            Value function vector, of length n.\n",
    "\n",
    "    policy : ndarray(float, ndim=2)\n",
    "        Transition matrix for `policy`, of shape (n, n).\n",
    "    \"\"\"\n",
    "    u_new = np.where(np.isnan(u_grid), 0, u_grid)\n",
    "\n",
    "    value_fn = np.amax(u_new, axis = 0)\n",
    "    policy = np.argmax(u_new, axis = 0)\n",
    "    return value_fn, policy"
   ]
  },
  {
   "cell_type": "code",
   "execution_count": 19,
   "metadata": {},
   "outputs": [
    {
     "output_type": "stream",
     "name": "stdout",
     "text": [
      "1.42 ms ± 36 µs per loop (mean ± std. dev. of 7 runs, 1000 loops each)\n"
     ]
    }
   ],
   "source": [
    "%timeit boosted_state_wise_max(u_grid)"
   ]
  },
  {
   "cell_type": "code",
   "execution_count": 15,
   "metadata": {},
   "outputs": [
    {
     "output_type": "stream",
     "name": "stdout",
     "text": [
      "1.37 ms ± 67.2 µs per loop (mean ± std. dev. of 7 runs, 1000 loops each)\n"
     ]
    }
   ],
   "source": [
    "%timeit state_wise_max(u_grid)"
   ]
  },
  {
   "cell_type": "code",
   "execution_count": 21,
   "metadata": {},
   "outputs": [],
   "source": [
    "@jit\n",
    "def boosted_bellman_equation(u_grid, val_old, beta):\n",
    "    \"\"\"\n",
    "    Computes and returns the updated\n",
    "    value function for an old value function `val_old`.\n",
    "    Return NA position to 0 value\n",
    "\n",
    "    Parameters\n",
    "    ----------\n",
    "    val_old : array_like(float, ndim=1)\n",
    "        Old value function vector, of length n.\n",
    "\n",
    "    u_grid : array_like( 2-dimensional ndarray of shape (n, n))\n",
    "        Utility grid.\n",
    "\n",
    "    Returns\n",
    "    -------\n",
    "    v_new : array_like( 2-dimensional ndarray of shape (n, n))\n",
    "        Updated utility value grid\n",
    "\n",
    "    \"\"\"\n",
    "    v = u_grid + beta*val_old[:,None]\n",
    "\n",
    "    v_new = np.where(np.isnan(u_grid), 0, v)\n",
    "\n",
    "    return v_new\n",
    "\n",
    "def bellman_equation(u_grid, val_old, beta):\n",
    "    \"\"\"\n",
    "    Computes and returns the updated\n",
    "    value function for an old value function `val_old`.\n",
    "    Return NA position to 0 value\n",
    "\n",
    "    Parameters\n",
    "    ----------\n",
    "    val_old : array_like(float, ndim=1)\n",
    "        Old value function vector, of length n.\n",
    "\n",
    "    u_grid : array_like( 2-dimensional ndarray of shape (n, n))\n",
    "        Utility grid.\n",
    "\n",
    "    Returns\n",
    "    -------\n",
    "    v_new : array_like( 2-dimensional ndarray of shape (n, n))\n",
    "        Updated utility value grid\n",
    "\n",
    "    \"\"\"\n",
    "    v = u_grid + beta*val_old[:,None]\n",
    "\n",
    "    v_new = np.where(np.isnan(u_grid), 0, v)\n",
    "\n",
    "    return v_new"
   ]
  },
  {
   "cell_type": "code",
   "execution_count": 22,
   "metadata": {},
   "outputs": [],
   "source": [
    "val_old= np.zeros(num_states)"
   ]
  },
  {
   "cell_type": "code",
   "execution_count": 23,
   "metadata": {},
   "outputs": [
    {
     "output_type": "stream",
     "name": "stdout",
     "text": [
      "1.01 ms ± 30.4 µs per loop (mean ± std. dev. of 7 runs, 1000 loops each)\n"
     ]
    }
   ],
   "source": [
    "%timeit boosted_bellman_equation(u_grid, val_old, paras[\"beta\"])"
   ]
  },
  {
   "cell_type": "code",
   "execution_count": 24,
   "metadata": {},
   "outputs": [
    {
     "output_type": "stream",
     "name": "stdout",
     "text": [
      "1.04 ms ± 40.2 µs per loop (mean ± std. dev. of 7 runs, 1000 loops each)\n"
     ]
    }
   ],
   "source": [
    "%timeit bellman_equation(u_grid, val_old, paras[\"beta\"])"
   ]
  },
  {
   "source": [
    "### Policy iteration"
   ],
   "cell_type": "markdown",
   "metadata": {}
  },
  {
   "cell_type": "code",
   "execution_count": 20,
   "metadata": {},
   "outputs": [
    {
     "output_type": "stream",
     "name": "stdout",
     "text": [
      "         6555 function calls in 0.124 seconds\n\n   Ordered by: cumulative time\n\n   ncalls  tottime  percall  cumtime  percall filename:lineno(function)\n        1    0.008    0.008    0.124    0.124 <ipython-input-20-4bd3df77f247>:84(policy_iteration)\n      101    0.014    0.000    0.065    0.001 {built-in method numpy.core._multiarray_umath.implement_array_function}\n       16    0.004    0.000    0.052    0.003 <ipython-input-20-4bd3df77f247>:40(v_greedy)\n       17    0.022    0.001    0.052    0.003 <ipython-input-20-4bd3df77f247>:1(evaluate_policy)\n       16    0.001    0.000    0.031    0.002 <ipython-input-18-9b6d17d4b666>:27(state_wise_max)\n       17    0.000    0.000    0.025    0.001 <__array_function__ internals>:2(solve)\n       17    0.025    0.001    0.025    0.001 C:\\ProgramData\\Anaconda3\\lib\\site-packages\\numpy\\linalg\\linalg.py:323(solve)\n       16    0.009    0.001    0.017    0.001 <ipython-input-9-8ecabb5ab709>:1(bellman_equation)\n       16    0.000    0.000    0.016    0.001 <__array_function__ internals>:2(argmax)\n       16    0.000    0.000    0.016    0.001 C:\\ProgramData\\Anaconda3\\lib\\site-packages\\numpy\\core\\fromnumeric.py:1112(argmax)\n       17    0.000    0.000    0.016    0.001 C:\\ProgramData\\Anaconda3\\lib\\site-packages\\numpy\\core\\fromnumeric.py:55(_wrapfunc)\n       16    0.016    0.001    0.016    0.001 {method 'argmax' of 'numpy.ndarray' objects}\n       33    0.000    0.000    0.014    0.000 <__array_function__ internals>:2(where)\n        1    0.000    0.000    0.010    0.010 <ipython-input-20-4bd3df77f247>:62(random_policy)\n        1    0.001    0.001    0.010    0.010 <ipython-input-20-4bd3df77f247>:80(<listcomp>)\n      400    0.004    0.000    0.007    0.000 {method 'choice' of 'numpy.random.mtrand.RandomState' objects}\n       16    0.000    0.000    0.007    0.000 <__array_function__ internals>:2(amax)\n       16    0.000    0.000    0.007    0.000 C:\\ProgramData\\Anaconda3\\lib\\site-packages\\numpy\\core\\fromnumeric.py:2551(amax)\n       32    0.007    0.000    0.007    0.000 {method 'reduce' of 'numpy.ufunc' objects}\n       16    0.000    0.000    0.007    0.000 C:\\ProgramData\\Anaconda3\\lib\\site-packages\\numpy\\core\\fromnumeric.py:73(_wrapreduction)\n       17    0.000    0.000    0.004    0.000 C:\\ProgramData\\Anaconda3\\lib\\site-packages\\numpy\\core\\numeric.py:2054(identity)\n       17    0.003    0.000    0.004    0.000 C:\\ProgramData\\Anaconda3\\lib\\site-packages\\numpy\\lib\\twodim_base.py:154(eye)\n      400    0.001    0.000    0.003    0.000 C:\\ProgramData\\Anaconda3\\lib\\site-packages\\numpy\\core\\_dtype.py:333(_name_get)\n      400    0.002    0.000    0.002    0.000 {method 'nonzero' of 'numpy.ndarray' objects}\n        2    0.000    0.000    0.002    0.001 <__array_function__ internals>:2(tile)\n        2    0.000    0.000    0.002    0.001 C:\\ProgramData\\Anaconda3\\lib\\site-packages\\numpy\\lib\\shape_base.py:1169(tile)\n        4    0.002    0.000    0.002    0.000 {method 'repeat' of 'numpy.ndarray' objects}\n      400    0.000    0.000    0.002    0.000 C:\\ProgramData\\Anaconda3\\lib\\site-packages\\numpy\\core\\_dtype.py:319(_name_includes_bit_suffix)\n      400    0.000    0.000    0.001    0.000 C:\\ProgramData\\Anaconda3\\lib\\site-packages\\numpy\\core\\numerictypes.py:365(issubdtype)\n      800    0.001    0.000    0.001    0.000 C:\\ProgramData\\Anaconda3\\lib\\site-packages\\numpy\\core\\numerictypes.py:293(issubclass_)\n       16    0.000    0.000    0.001    0.000 <__array_function__ internals>:2(array_equal)\n       16    0.000    0.000    0.001    0.000 C:\\ProgramData\\Anaconda3\\lib\\site-packages\\numpy\\core\\numeric.py:2287(array_equal)\n       34    0.001    0.000    0.001    0.000 {built-in method numpy.zeros}\n      400    0.000    0.000    0.000    0.000 {method 'format' of 'str' objects}\n     1685    0.000    0.000    0.000    0.000 {built-in method builtins.issubclass}\n       16    0.000    0.000    0.000    0.000 {method 'all' of 'numpy.ndarray' objects}\n       82    0.000    0.000    0.000    0.000 C:\\ProgramData\\Anaconda3\\lib\\site-packages\\numpy\\core\\_asarray.py:16(asarray)\n       16    0.000    0.000    0.000    0.000 C:\\ProgramData\\Anaconda3\\lib\\site-packages\\numpy\\core\\_methods.py:47(_all)\n       17    0.000    0.000    0.000    0.000 C:\\ProgramData\\Anaconda3\\lib\\site-packages\\numpy\\linalg\\linalg.py:144(_commonType)\n       84    0.000    0.000    0.000    0.000 {built-in method numpy.array}\n      400    0.000    0.000    0.000    0.000 C:\\ProgramData\\Anaconda3\\lib\\site-packages\\numpy\\core\\_dtype.py:36(_kind_name)\n       34    0.000    0.000    0.000    0.000 C:\\ProgramData\\Anaconda3\\lib\\site-packages\\numpy\\linalg\\linalg.py:116(_makearray)\n       17    0.000    0.000    0.000    0.000 {method 'astype' of 'numpy.ndarray' objects}\n       17    0.000    0.000    0.000    0.000 <frozen importlib._bootstrap>:1009(_handle_fromlist)\n       34    0.000    0.000    0.000    0.000 C:\\ProgramData\\Anaconda3\\lib\\site-packages\\numpy\\linalg\\linalg.py:134(_realType)\n       17    0.000    0.000    0.000    0.000 C:\\ProgramData\\Anaconda3\\lib\\site-packages\\numpy\\linalg\\linalg.py:111(get_linalg_error_extobj)\n       51    0.000    0.000    0.000    0.000 {built-in method builtins.getattr}\n       51    0.000    0.000    0.000    0.000 C:\\ProgramData\\Anaconda3\\lib\\site-packages\\numpy\\linalg\\linalg.py:121(isComplexType)\n        1    0.000    0.000    0.000    0.000 <__array_function__ internals>:2(transpose)\n       17    0.000    0.000    0.000    0.000 C:\\ProgramData\\Anaconda3\\lib\\site-packages\\numpy\\linalg\\linalg.py:209(_assert_stacked_square)\n       17    0.000    0.000    0.000    0.000 C:\\ProgramData\\Anaconda3\\lib\\site-packages\\numpy\\linalg\\linalg.py:203(_assert_stacked_2d)\n       16    0.000    0.000    0.000    0.000 C:\\ProgramData\\Anaconda3\\lib\\site-packages\\numpy\\core\\fromnumeric.py:74(<dictcomp>)\n       54    0.000    0.000    0.000    0.000 {built-in method builtins.len}\n        1    0.000    0.000    0.000    0.000 C:\\ProgramData\\Anaconda3\\lib\\site-packages\\numpy\\core\\fromnumeric.py:604(transpose)\n       34    0.000    0.000    0.000    0.000 {built-in method builtins.hasattr}\n       34    0.000    0.000    0.000    0.000 {method 'get' of 'dict' objects}\n       33    0.000    0.000    0.000    0.000 C:\\ProgramData\\Anaconda3\\lib\\site-packages\\numpy\\core\\multiarray.py:312(where)\n       16    0.000    0.000    0.000    0.000 {method 'items' of 'dict' objects}\n       16    0.000    0.000    0.000    0.000 C:\\ProgramData\\Anaconda3\\lib\\site-packages\\numpy\\core\\numeric.py:2283(_array_equal_dispatcher)\n       16    0.000    0.000    0.000    0.000 C:\\ProgramData\\Anaconda3\\lib\\site-packages\\numpy\\core\\fromnumeric.py:2546(_amax_dispatcher)\n       17    0.000    0.000    0.000    0.000 C:\\ProgramData\\Anaconda3\\lib\\site-packages\\numpy\\linalg\\linalg.py:319(_solve_dispatcher)\n        6    0.000    0.000    0.000    0.000 {method 'reshape' of 'numpy.ndarray' objects}\n       17    0.000    0.000    0.000    0.000 {method '__array_prepare__' of 'numpy.ndarray' objects}\n       16    0.000    0.000    0.000    0.000 C:\\ProgramData\\Anaconda3\\lib\\site-packages\\numpy\\core\\fromnumeric.py:1108(_argmax_dispatcher)\n       17    0.000    0.000    0.000    0.000 {built-in method builtins.isinstance}\n        6    0.000    0.000    0.000    0.000 C:\\ProgramData\\Anaconda3\\lib\\site-packages\\numpy\\lib\\shape_base.py:1251(<genexpr>)\n        2    0.000    0.000    0.000    0.000 {built-in method builtins.all}\n        1    0.000    0.000    0.000    0.000 {method 'transpose' of 'numpy.ndarray' objects}\n        4    0.000    0.000    0.000    0.000 C:\\ProgramData\\Anaconda3\\lib\\site-packages\\numpy\\lib\\shape_base.py:1241(<genexpr>)\n        2    0.000    0.000    0.000    0.000 C:\\ProgramData\\Anaconda3\\lib\\site-packages\\numpy\\lib\\shape_base.py:1165(_tile_dispatcher)\n        1    0.000    0.000    0.000    0.000 C:\\ProgramData\\Anaconda3\\lib\\site-packages\\numpy\\core\\fromnumeric.py:600(_transpose_dispatcher)\n        1    0.000    0.000    0.000    0.000 {method 'disable' of '_lsprof.Profiler' objects}\n\n\n\n"
     ]
    },
    {
     "output_type": "execute_result",
     "data": {
      "text/plain": [
       "(array([[       nan,        nan,        nan, ...,        nan,        nan,\n",
       "                nan],\n",
       "        [0.32011984, 0.33022174, 0.34021487, ..., 1.77618784, 1.77791662,\n",
       "         1.77963779],\n",
       "        [0.70513693, 0.70958792, 0.7140068 , ..., 1.78626219, 1.78822214,\n",
       "         1.79017975],\n",
       "        ...,\n",
       "        [       nan,        nan,        nan, ...,        nan,        nan,\n",
       "                nan],\n",
       "        [       nan,        nan,        nan, ...,        nan,        nan,\n",
       "                nan],\n",
       "        [       nan,        nan,        nan, ...,        nan,        nan,\n",
       "                nan]]),\n",
       " array([[ nan,  nan,  nan, ...,  nan,  nan,  nan],\n",
       "        [194., 194., 194., ..., 337., 337., 337.],\n",
       "        [ 92.,  92.,  92., ..., 366., 366., 367.],\n",
       "        ...,\n",
       "        [ nan,  nan,  nan, ...,  nan,  nan,  nan],\n",
       "        [ nan,  nan,  nan, ...,  nan,  nan,  nan],\n",
       "        [ nan,  nan,  nan, ...,  nan,  nan,  nan]]),\n",
       " 16)"
      ]
     },
     "metadata": {},
     "execution_count": 20
    }
   ],
   "source": [
    "def evaluate_policy(policy, u_grid, beta):\n",
    "    \"\"\"\n",
    "    Computes the updated value function `Tv` for a `policy`.\n",
    "\n",
    "    Parameters\n",
    "    ----------\n",
    "    policy : array_like(int, ndim=1)\n",
    "        Policy vector, of length n.\n",
    "        \n",
    "    u_grid : array_like( 2-dimensional ndarray of shape (n, n))\n",
    "            Utility grid\n",
    "\n",
    "    U_policy : array_like(float, ndim=1)\n",
    "            Utility vector corresponding with policy, of length n\n",
    "    \n",
    "    Q_policy : array_like( 2-dimensional ndarray of shape (n, n))\n",
    "             sparse matrix Q with zeros everywhere except for its row i and column j elements\n",
    "\n",
    "    Returns\n",
    "    -------\n",
    "    v_policy : array_like(float, ndim=1)\n",
    "        Value function vector, of length n\n",
    "\n",
    "    \"\"\"\n",
    "    num_states = len(u_grid)\n",
    "\n",
    "    # Solve (I - beta * Q_policy) v = U_policy\n",
    "    U_policy = u_grid[policy,range(len(policy))]\n",
    "    b = U_policy\n",
    "\n",
    "    Q_policy = np.zeros((num_states, num_states))\n",
    "    Q_policy[range(len(policy)),policy] = 1.0\n",
    "    \n",
    "    I = np.identity(num_states)\n",
    "    A = I - beta * Q_policy\n",
    "\n",
    "    v_policy = np.linalg.solve(A, b)\n",
    "    return v_policy\n",
    "\n",
    "def v_greedy(v, u_grid, beta):\n",
    "    \"\"\"\n",
    "    Parameters\n",
    "    ----------\n",
    "    v : array_like(float, ndim=1)\n",
    "        Value function vector, of length n.\n",
    "\n",
    "    policy : ndarray(int, ndim=1)\n",
    "        Optional output array for `sigma`.\n",
    "    Returns\n",
    "    -------\n",
    "    policy : ndarray(int, ndim=1)\n",
    "        v-greedy policy vector, of length n.\n",
    "    \"\"\"\n",
    "\n",
    "    #improve value function\n",
    "    v_new = bellman_equation(u_grid, v, beta)\n",
    "    \n",
    "    #find the new_policy (new maximum)\n",
    "    new_value , new_policy = state_wise_max(v_new)\n",
    "    return new_value, new_policy\n",
    "\n",
    "def random_policy(_grid):\n",
    "    \"\"\"\n",
    "    Randomly choose a policy from plausible choices from grid world\n",
    "\n",
    "    Parameters\n",
    "    ----------\n",
    "    c_grid : array_like( 2-dimensional ndarray of shape (n, n))\n",
    "        Utility vector, of length n\n",
    "\n",
    "    Returns\n",
    "    -------\n",
    "    policy : ndarray(int, ndim=1)\n",
    "            random policy vector, of length n\n",
    "    \"\"\"\n",
    "    new_grid = np.where(np.isnan(_grid), 0, _grid)\n",
    "\n",
    "    a = np.transpose(new_grid)\n",
    "\n",
    "    policy = [np.random.choice(r.nonzero()[0]) for r in a]\n",
    "\n",
    "    return policy\n",
    "\n",
    "@profile\n",
    "def policy_iteration(max_iter, u_grid, beta):\n",
    "    \"\"\"\n",
    "    Solve the optimization problem by policy iteration\n",
    "\n",
    "    matrix Q with zeros everywhere except for its row i and column j elements, which equal one\n",
    "\n",
    "    \"\"\"\n",
    "\n",
    "    num_states = len(u_grid)\n",
    "\n",
    "    # set up\n",
    "    value_store_iter = np.tile(np.nan, [max_iter, num_states])\n",
    "    store_policy = np.tile(np.nan, [max_iter, num_states])\n",
    "\n",
    "    # Initialize with a random policy and initial value function\n",
    "    policy = random_policy(u_grid)\n",
    "    v_policy = evaluate_policy(policy, u_grid, beta)\n",
    "\n",
    "    for i in range(max_iter):\n",
    "        # Policy improvement\n",
    "        improved_value , improved_policy = v_greedy(v_policy, u_grid, beta)\n",
    "    \n",
    "        # Policy evaluation\n",
    "        Tv = evaluate_policy(improved_policy, u_grid, beta)\n",
    "\n",
    "        store_policy[i+1,:] = improved_policy\n",
    "        value_store_iter[i+1,:] = improved_value\n",
    "\n",
    "        # quit iterations, when convergence is achieved\n",
    "        if np.array_equal(improved_policy, policy):\n",
    "            break\n",
    "\n",
    "        policy = improved_policy\n",
    "        v_policy = Tv\n",
    "\n",
    "    num_iter = i + 1\n",
    "\n",
    "    return value_store_iter, store_policy, num_iter\n",
    "    \n",
    "policy_iteration(max_iter, u_grid, paras[\"beta\"])"
   ]
  },
  {
   "cell_type": "code",
   "execution_count": 25,
   "metadata": {},
   "outputs": [],
   "source": [
    "@jit\n",
    "def boosted_evaluate_policy(policy, u_grid, beta):\n",
    "    \"\"\"\n",
    "    Computes the updated value function `Tv` for a `policy`.\n",
    "\n",
    "    Parameters\n",
    "    ----------\n",
    "    policy : array_like(int, ndim=1)\n",
    "        Policy vector, of length n.\n",
    "        \n",
    "    u_grid : array_like( 2-dimensional ndarray of shape (n, n))\n",
    "            Utility grid\n",
    "\n",
    "    U_policy : array_like(float, ndim=1)\n",
    "            Utility vector corresponding with policy, of length n\n",
    "    \n",
    "    Q_policy : array_like( 2-dimensional ndarray of shape (n, n))\n",
    "             sparse matrix Q with zeros everywhere except for its row i and column j elements\n",
    "\n",
    "    Returns\n",
    "    -------\n",
    "    v_policy : array_like(float, ndim=1)\n",
    "        Value function vector, of length n\n",
    "\n",
    "    \"\"\"\n",
    "    num_states = len(u_grid)\n",
    "\n",
    "    # Solve (I - beta * Q_policy) v = U_policy\n",
    "    U_policy = u_grid[policy,range(len(policy))]\n",
    "    b = U_policy\n",
    "\n",
    "    Q_policy = np.zeros((num_states, num_states))\n",
    "    Q_policy[range(len(policy)),policy] = 1.0\n",
    "    \n",
    "    I = np.identity(num_states)\n",
    "    A = I - beta * Q_policy\n",
    "\n",
    "    v_policy = np.linalg.solve(A, b)\n",
    "    return v_policy\n",
    "\n",
    "def evaluate_policy(policy, u_grid, beta):\n",
    "    \"\"\"\n",
    "    Computes the updated value function `Tv` for a `policy`.\n",
    "\n",
    "    Parameters\n",
    "    ----------\n",
    "    policy : array_like(int, ndim=1)\n",
    "        Policy vector, of length n.\n",
    "        \n",
    "    u_grid : array_like( 2-dimensional ndarray of shape (n, n))\n",
    "            Utility grid\n",
    "\n",
    "    U_policy : array_like(float, ndim=1)\n",
    "            Utility vector corresponding with policy, of length n\n",
    "    \n",
    "    Q_policy : array_like( 2-dimensional ndarray of shape (n, n))\n",
    "             sparse matrix Q with zeros everywhere except for its row i and column j elements\n",
    "\n",
    "    Returns\n",
    "    -------\n",
    "    v_policy : array_like(float, ndim=1)\n",
    "        Value function vector, of length n\n",
    "\n",
    "    \"\"\"\n",
    "    num_states = len(u_grid)\n",
    "\n",
    "    # Solve (I - beta * Q_policy) v = U_policy\n",
    "    U_policy = u_grid[policy,range(len(policy))]\n",
    "    b = U_policy\n",
    "\n",
    "    Q_policy = np.zeros((num_states, num_states))\n",
    "    Q_policy[range(len(policy)),policy] = 1.0\n",
    "    \n",
    "    I = np.identity(num_states)\n",
    "    A = I - beta * Q_policy\n",
    "\n",
    "    v_policy = np.linalg.solve(A, b)\n",
    "    return v_policy\n"
   ]
  },
  {
   "cell_type": "code",
   "execution_count": 26,
   "metadata": {},
   "outputs": [],
   "source": [
    "policy = random_policy(u_grid)"
   ]
  },
  {
   "cell_type": "code",
   "execution_count": 30,
   "metadata": {},
   "outputs": [
    {
     "output_type": "stream",
     "name": "stdout",
     "text": [
      "4.34 ms ± 137 µs per loop (mean ± std. dev. of 7 runs, 100 loops each)\n"
     ]
    }
   ],
   "source": [
    "%timeit boosted_evaluate_policy(policy, u_grid, paras[\"beta\"])"
   ]
  },
  {
   "cell_type": "code",
   "execution_count": 29,
   "metadata": {},
   "outputs": [
    {
     "output_type": "stream",
     "name": "stdout",
     "text": [
      "4.13 ms ± 205 µs per loop (mean ± std. dev. of 7 runs, 100 loops each)\n"
     ]
    }
   ],
   "source": [
    "%timeit evaluate_policy(policy, u_grid, paras[\"beta\"])"
   ]
  },
  {
   "cell_type": "code",
   "execution_count": null,
   "metadata": {},
   "outputs": [],
   "source": []
  }
 ]
}